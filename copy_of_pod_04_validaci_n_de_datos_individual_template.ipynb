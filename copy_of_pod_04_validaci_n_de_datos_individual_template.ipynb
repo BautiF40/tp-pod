{
  "nbformat": 4,
  "nbformat_minor": 0,
  "metadata": {
    "colab": {
      "provenance": []
    },
    "kernelspec": {
      "name": "python3",
      "display_name": "Python 3"
    },
    "language_info": {
      "name": "python"
    }
  },
  "cells": [
    {
      "cell_type": "markdown",
      "source": [
        "*   **Año:** 2024\n",
        "*   **Alumno/a:** BLANCO JUAN BAUTISTA\n",
        "*   **Legajo:** [LEGAJO]"
      ],
      "metadata": {
        "id": "UwxQU5JCF33j"
      }
    },
    {
      "cell_type": "markdown",
      "source": [
        "# Pydantic\n",
        "Pydantic es una libreria rapida y extensible que nos permite validar datos usando tipos de datos de Python.\n"
      ],
      "metadata": {
        "id": "8ec8DQdbWQfC"
      }
    },
    {
      "cell_type": "markdown",
      "source": [
        "Primero, importe `pydantic`."
      ],
      "metadata": {
        "id": "uF01w4AQcrtV"
      }
    },
    {
      "cell_type": "code",
      "source": [
        "import pydantic\n",
        "from pydantic import BaseModel, ValidationError, validator, Field\n"
      ],
      "metadata": {
        "id": "4WPUcwU_c5n2"
      },
      "execution_count": null,
      "outputs": []
    },
    {
      "cell_type": "markdown",
      "source": [
        "Supongamos que tenemos una lista de clientes (llamemoslo en el codigo `Client`). Los clientes tienen dos campos: DNI (un entero) y nacionalidad (un `string`). Cree el modelo base de `Client` (en forma de clases de Python)."
      ],
      "metadata": {
        "id": "eC8fpbQ04GzX"
      }
    },
    {
      "cell_type": "code",
      "source": [
        "class Client(BaseModel):\n",
        "    DNI: int\n",
        "    nationality: str\n"
      ],
      "metadata": {
        "id": "I4zJ7s_k4GkI"
      },
      "execution_count": null,
      "outputs": []
    },
    {
      "cell_type": "markdown",
      "source": [
        "Cree a un usuario con documento 39.755.010 y nacionalidad 'Argentina'. Muestre todos sus campos."
      ],
      "metadata": {
        "id": "zas-XX4r4SeP"
      }
    },
    {
      "cell_type": "code",
      "source": [
        "client = Client(DNI=39755010, nationality='Argentina')\n",
        "print(client)\n"
      ],
      "metadata": {
        "id": "_DhtCWhr4ST9",
        "outputId": "cbeb7b5d-da1f-4b76-ef02-43d5bc5cfb00",
        "colab": {
          "base_uri": "https://localhost:8080/"
        }
      },
      "execution_count": null,
      "outputs": [
        {
          "output_type": "stream",
          "name": "stdout",
          "text": [
            "DNI=39755010 nationality='Argentina'\n"
          ]
        }
      ]
    },
    {
      "cell_type": "markdown",
      "source": [
        "Intente crear al usuario con un documento en forma de `string`. Deberia fallar..."
      ],
      "metadata": {
        "id": "ejbn5RSH4S_W"
      }
    },
    {
      "cell_type": "code",
      "source": [
        "client = Client(DNI=\"39755010\", nationality='Argentina')\n",
        "#NO fallo ?\n"
      ],
      "metadata": {
        "id": "OMPq8C1C4Su3"
      },
      "execution_count": null,
      "outputs": []
    },
    {
      "cell_type": "markdown",
      "source": [
        "Hemos detectado que ciertos clientes tienen nacionalidades que no existen. Ademas, hay numeros de documento negativos y se tiene que poder agregar la fecha de registro de los clientes (que no pueden ser del futuro). Cambiar la definicion del cliente para que estas cosas no ocurran. Despues de la siguiente celda, cree otras 3 mas probando un caso donde deberia funcionar y otros dos en los que no."
      ],
      "metadata": {
        "id": "jARZRMfe6MPE"
      }
    },
    {
      "cell_type": "code",
      "source": [
        "from pydantic import BaseModel, Field, validator\n",
        "from pydantic.types import date\n",
        "\n",
        "VALID_NATIONALITIES = [\n",
        "    'Afghanistan', 'Albania', 'Algeria', 'Andorra', 'Angola', 'Antigua and Barbuda', 'Argentina', 'Armenia', 'Australia',\n",
        "    'Austria', 'Azerbaijan', 'Bahamas', 'Bahrain', 'Bangladesh', 'Barbados', 'Belarus', 'Belgium', 'Belize', 'Benin',\n",
        "    'Bhutan', 'Bolivia', 'Bosnia and Herzegovina', 'Botswana', 'Brazil', 'Brunei', 'Bulgaria', 'Burkina Faso', 'Burundi',\n",
        "    'Cabo Verde', 'Cambodia', 'Cameroon', 'Canada', 'Central African Republic', 'Chad', 'Chile', 'China', 'Colombia',\n",
        "    'Comoros', 'Congo', 'Congo (Democratic Republic of)', 'Costa Rica', 'Croatia', 'Cuba', 'Cyprus', 'Czechia', 'Denmark',\n",
        "    'Djibouti', 'Dominica', 'Dominican Republic', 'East Timor', 'Ecuador', 'Egypt', 'El Salvador', 'Equatorial Guinea',\n",
        "    'Eritrea', 'Estonia', 'Eswatini', 'Ethiopia', 'Fiji', 'Finland', 'France', 'Gabon', 'Gambia', 'Georgia', 'Germany',\n",
        "    'Ghana', 'Greece', 'Grenada', 'Guatemala', 'Guinea', 'Guinea-Bissau', 'Guyana', 'Haiti', 'Honduras', 'Hungary',\n",
        "    'Iceland', 'India', 'Indonesia', 'Iran', 'Iraq', 'Ireland', 'Israel', 'Italy', 'Jamaica', 'Japan', 'Jordan', 'Kazakhstan',\n",
        "    'Kenya', 'Kiribati', 'Korea (North)', 'Korea (South)', 'Kuwait', 'Kyrgyzstan', 'Laos', 'Latvia', 'Lebanon', 'Lesotho',\n",
        "    'Liberia', 'Libya', 'Liechtenstein', 'Lithuania', 'Luxembourg', 'Madagascar', 'Malawi', 'Malaysia', 'Maldives', 'Mali',\n",
        "    'Malta', 'Marshall Islands', 'Mauritania', 'Mauritius', 'Mexico', 'Micronesia', 'Moldova', 'Monaco', 'Mongolia',\n",
        "    'Montenegro', 'Morocco', 'Mozambique', 'Myanmar', 'Namibia', 'Nauru', 'Nepal', 'Netherlands', 'New Zealand', 'Nicaragua',\n",
        "    'Niger', 'Nigeria', 'North Macedonia', 'Norway', 'Oman', 'Pakistan', 'Palau', 'Panama', 'Papua New Guinea', 'Paraguay',\n",
        "    'Peru', 'Philippines', 'Poland', 'Portugal', 'Qatar', 'Romania', 'Russia', 'Rwanda', 'Saint Kitts and Nevis', 'Saint Lucia',\n",
        "    'Saint Vincent and the Grenadines', 'Samoa', 'San Marino', 'Sao Tome and Principe', 'Saudi Arabia', 'Senegal', 'Serbia',\n",
        "    'Seychelles', 'Sierra Leone', 'Singapore', 'Slovakia', 'Slovenia', 'Solomon Islands', 'Somalia', 'South Africa', 'South Sudan',\n",
        "    'Spain', 'Sri Lanka', 'Sudan', 'Suriname', 'Sweden', 'Switzerland', 'Syria', 'Taiwan', 'Tajikistan', 'Tanzania', 'Thailand',\n",
        "    'Togo', 'Tonga', 'Trinidad and Tobago', 'Tunisia', 'Turkey', 'Turkmenistan', 'Tuvalu', 'Uganda', 'Ukraine', 'United Arab Emirates',\n",
        "    'United Kingdom', 'United States', 'Uruguay', 'Uzbekistan', 'Vanuatu', 'Vatican City', 'Venezuela', 'Vietnam', 'Yemen',\n",
        "    'Zambia', 'Zimbabwe'\n",
        "]\n",
        "\n",
        "class Client(BaseModel):\n",
        "    DNI: int = Field(..., gt=0)\n",
        "    nationality: str\n",
        "    registration_date: date\n",
        "\n",
        "    @validator('nationality')\n",
        "    def validate_nationality(cls, value):\n",
        "        if value not in VALID_NATIONALITIES:\n",
        "            raise ValueError('Invalid nationality')\n",
        "        return value\n",
        "\n",
        "    @validator('registration_date')\n",
        "    def validate_registration_date(cls, value):\n",
        "        if value > date.today():\n",
        "            raise ValueError('Registration date cannot be in the future')\n",
        "        return value\n",
        "\n",
        "\n",
        "\n",
        "\n",
        "\n",
        "    client_invalid_date = Client(DNI=12345678, nationality='Argentina', registration_date=date(2025, 1, 1))\n",
        "except ValueError as e:\n",
        "    print(f\"Error: {e}\")\n"
      ],
      "metadata": {
        "id": "JWsWZZPH6NFv",
        "outputId": "5c79a8bd-627f-45c3-d162-795f56db0a2b",
        "colab": {
          "base_uri": "https://localhost:8080/"
        }
      },
      "execution_count": null,
      "outputs": [
        {
          "output_type": "stream",
          "name": "stdout",
          "text": [
            "DNI=12345678 nationality='Argentina' registration_date=datetime.date(2023, 9, 1)\n",
            "Error: 1 validation error for Client\n",
            "nationality\n",
            "  Value error, Invalid nationality [type=value_error, input_value='Narnia', input_type=str]\n",
            "    For further information visit https://errors.pydantic.dev/2.9/v/value_error\n",
            "Error: 1 validation error for Client\n",
            "registration_date\n",
            "  Value error, Registration date cannot be in the future [type=value_error, input_value=datetime.date(2025, 1, 1), input_type=date]\n",
            "    For further information visit https://errors.pydantic.dev/2.9/v/value_error\n"
          ]
        },
        {
          "output_type": "stream",
          "name": "stderr",
          "text": [
            "<ipython-input-14-31bc524cc72d>:33: PydanticDeprecatedSince20: Pydantic V1 style `@validator` validators are deprecated. You should migrate to Pydantic V2 style `@field_validator` validators, see the migration guide for more details. Deprecated in Pydantic V2.0 to be removed in V3.0. See Pydantic V2 Migration Guide at https://errors.pydantic.dev/2.9/migration/\n",
            "  @validator('nationality')\n",
            "<ipython-input-14-31bc524cc72d>:39: PydanticDeprecatedSince20: Pydantic V1 style `@validator` validators are deprecated. You should migrate to Pydantic V2 style `@field_validator` validators, see the migration guide for more details. Deprecated in Pydantic V2.0 to be removed in V3.0. See Pydantic V2 Migration Guide at https://errors.pydantic.dev/2.9/migration/\n",
            "  @validator('registration_date')\n"
          ]
        }
      ]
    },
    {
      "cell_type": "code",
      "source": [
        "client = Client(DNI=12345678, nationality='Argentina', registration_date=date(2023, 9, 1))\n",
        "print(client)"
      ],
      "metadata": {
        "id": "sWyLaqoC7QUK",
        "outputId": "71e8cf14-6c0e-48e3-d270-1fff75c04e00",
        "colab": {
          "base_uri": "https://localhost:8080/"
        }
      },
      "execution_count": null,
      "outputs": [
        {
          "output_type": "stream",
          "name": "stdout",
          "text": [
            "DNI=12345678 nationality='Argentina' registration_date=datetime.date(2023, 9, 1)\n"
          ]
        }
      ]
    },
    {
      "cell_type": "code",
      "source": [
        "client_connacionalidadquenoexiste = Client(DNI=12345678, nationality='Narnia', registration_date=date(2023, 9, 1))\n"
      ],
      "metadata": {
        "id": "E6h_7zb77QhN",
        "outputId": "04672d9d-7c34-4982-8557-b6513bf004a9",
        "colab": {
          "base_uri": "https://localhost:8080/",
          "height": 332
        }
      },
      "execution_count": null,
      "outputs": [
        {
          "output_type": "error",
          "ename": "ValidationError",
          "evalue": "1 validation error for Client\nnationality\n  Value error, Invalid nationality [type=value_error, input_value='Narnia', input_type=str]\n    For further information visit https://errors.pydantic.dev/2.9/v/value_error",
          "traceback": [
            "\u001b[0;31m---------------------------------------------------------------------------\u001b[0m",
            "\u001b[0;31mValidationError\u001b[0m                           Traceback (most recent call last)",
            "\u001b[0;32m<ipython-input-16-946c4878b0e0>\u001b[0m in \u001b[0;36m<cell line: 1>\u001b[0;34m()\u001b[0m\n\u001b[0;32m----> 1\u001b[0;31m \u001b[0mclient_invalid_nationality\u001b[0m \u001b[0;34m=\u001b[0m \u001b[0mClient\u001b[0m\u001b[0;34m(\u001b[0m\u001b[0mDNI\u001b[0m\u001b[0;34m=\u001b[0m\u001b[0;36m12345678\u001b[0m\u001b[0;34m,\u001b[0m \u001b[0mnationality\u001b[0m\u001b[0;34m=\u001b[0m\u001b[0;34m'Narnia'\u001b[0m\u001b[0;34m,\u001b[0m \u001b[0mregistration_date\u001b[0m\u001b[0;34m=\u001b[0m\u001b[0mdate\u001b[0m\u001b[0;34m(\u001b[0m\u001b[0;36m2023\u001b[0m\u001b[0;34m,\u001b[0m \u001b[0;36m9\u001b[0m\u001b[0;34m,\u001b[0m \u001b[0;36m1\u001b[0m\u001b[0;34m)\u001b[0m\u001b[0;34m)\u001b[0m\u001b[0;34m\u001b[0m\u001b[0;34m\u001b[0m\u001b[0m\n\u001b[0m",
            "\u001b[0;32m/usr/local/lib/python3.10/dist-packages/pydantic/main.py\u001b[0m in \u001b[0;36m__init__\u001b[0;34m(self, **data)\u001b[0m\n\u001b[1;32m    210\u001b[0m         \u001b[0;31m# `__tracebackhide__` tells pytest and some other tools to omit this function from tracebacks\u001b[0m\u001b[0;34m\u001b[0m\u001b[0;34m\u001b[0m\u001b[0m\n\u001b[1;32m    211\u001b[0m         \u001b[0m__tracebackhide__\u001b[0m \u001b[0;34m=\u001b[0m \u001b[0;32mTrue\u001b[0m\u001b[0;34m\u001b[0m\u001b[0;34m\u001b[0m\u001b[0m\n\u001b[0;32m--> 212\u001b[0;31m         \u001b[0mvalidated_self\u001b[0m \u001b[0;34m=\u001b[0m \u001b[0mself\u001b[0m\u001b[0;34m.\u001b[0m\u001b[0m__pydantic_validator__\u001b[0m\u001b[0;34m.\u001b[0m\u001b[0mvalidate_python\u001b[0m\u001b[0;34m(\u001b[0m\u001b[0mdata\u001b[0m\u001b[0;34m,\u001b[0m \u001b[0mself_instance\u001b[0m\u001b[0;34m=\u001b[0m\u001b[0mself\u001b[0m\u001b[0;34m)\u001b[0m\u001b[0;34m\u001b[0m\u001b[0;34m\u001b[0m\u001b[0m\n\u001b[0m\u001b[1;32m    213\u001b[0m         \u001b[0;32mif\u001b[0m \u001b[0mself\u001b[0m \u001b[0;32mis\u001b[0m \u001b[0;32mnot\u001b[0m \u001b[0mvalidated_self\u001b[0m\u001b[0;34m:\u001b[0m\u001b[0;34m\u001b[0m\u001b[0;34m\u001b[0m\u001b[0m\n\u001b[1;32m    214\u001b[0m             warnings.warn(\n",
            "\u001b[0;31mValidationError\u001b[0m: 1 validation error for Client\nnationality\n  Value error, Invalid nationality [type=value_error, input_value='Narnia', input_type=str]\n    For further information visit https://errors.pydantic.dev/2.9/v/value_error"
          ]
        }
      ]
    },
    {
      "cell_type": "code",
      "source": [
        "client_confechaquenoexiste = Client(DNI=12345678, nationality='Argentina', registration_date=date(-2025, 1, 1))\n"
      ],
      "metadata": {
        "id": "MtDGMxri7R_O",
        "outputId": "dab9b004-8ec4-4b93-b52d-b859c721a291",
        "colab": {
          "base_uri": "https://localhost:8080/",
          "height": 148
        }
      },
      "execution_count": null,
      "outputs": [
        {
          "output_type": "error",
          "ename": "ValueError",
          "evalue": "year -2025 is out of range",
          "traceback": [
            "\u001b[0;31m---------------------------------------------------------------------------\u001b[0m",
            "\u001b[0;31mValueError\u001b[0m                                Traceback (most recent call last)",
            "\u001b[0;32m<ipython-input-19-7a195d7278fe>\u001b[0m in \u001b[0;36m<cell line: 1>\u001b[0;34m()\u001b[0m\n\u001b[0;32m----> 1\u001b[0;31m \u001b[0mclient_confechaquenoexiste\u001b[0m \u001b[0;34m=\u001b[0m \u001b[0mClient\u001b[0m\u001b[0;34m(\u001b[0m\u001b[0mDNI\u001b[0m\u001b[0;34m=\u001b[0m\u001b[0;36m12345678\u001b[0m\u001b[0;34m,\u001b[0m \u001b[0mnationality\u001b[0m\u001b[0;34m=\u001b[0m\u001b[0;34m'Argentina'\u001b[0m\u001b[0;34m,\u001b[0m \u001b[0mregistration_date\u001b[0m\u001b[0;34m=\u001b[0m\u001b[0mdate\u001b[0m\u001b[0;34m(\u001b[0m\u001b[0;34m-\u001b[0m\u001b[0;36m2025\u001b[0m\u001b[0;34m,\u001b[0m \u001b[0;36m1\u001b[0m\u001b[0;34m,\u001b[0m \u001b[0;36m1\u001b[0m\u001b[0;34m)\u001b[0m\u001b[0;34m)\u001b[0m\u001b[0;34m\u001b[0m\u001b[0;34m\u001b[0m\u001b[0m\n\u001b[0m",
            "\u001b[0;31mValueError\u001b[0m: year -2025 is out of range"
          ]
        }
      ]
    },
    {
      "cell_type": "markdown",
      "source": [
        "# Pandera\n",
        "Hacer lo que se pidio en la ultima celda anterior, pero con Pandera."
      ],
      "metadata": {
        "id": "79P3MNuZ8-t3"
      }
    },
    {
      "cell_type": "code",
      "source": [
        "import pandera as pa\n",
        "from pandera import Column, DataFrameSchema, Check\n",
        "import pandas as pd\n",
        "from datetime import date\n",
        "\n",
        "VALID_NATIONALITIES = [\n",
        "    'Afghanistan', 'Albania', 'Algeria', 'Andorra', 'Angola', 'Antigua and Barbuda', 'Argentina', 'Armenia', 'Australia',\n",
        "    'Austria', 'Azerbaijan', 'Bahamas', 'Bahrain', 'Bangladesh', 'Barbados', 'Belarus', 'Belgium', 'Belize', 'Benin',\n",
        "    'Bhutan', 'Bolivia', 'Bosnia and Herzegovina', 'Botswana', 'Brazil', 'Brunei', 'Bulgaria', 'Burkina Faso', 'Burundi',\n",
        "    'Cabo Verde', 'Cambodia', 'Cameroon', 'Canada', 'Central African Republic', 'Chad', 'Chile', 'China', 'Colombia',\n",
        "    'Comoros', 'Congo', 'Congo (Democratic Republic of)', 'Costa Rica', 'Croatia', 'Cuba', 'Cyprus', 'Czechia', 'Denmark',\n",
        "    'Djibouti', 'Dominica', 'Dominican Republic', 'East Timor', 'Ecuador', 'Egypt', 'El Salvador', 'Equatorial Guinea',\n",
        "    'Eritrea', 'Estonia', 'Eswatini', 'Ethiopia', 'Fiji', 'Finland', 'France', 'Gabon', 'Gambia', 'Georgia', 'Germany',\n",
        "    'Ghana', 'Greece', 'Grenada', 'Guatemala', 'Guinea', 'Guinea-Bissau', 'Guyana', 'Haiti', 'Honduras', 'Hungary',\n",
        "    'Iceland', 'India', 'Indonesia', 'Iran', 'Iraq', 'Ireland', 'Israel', 'Italy', 'Jamaica', 'Japan', 'Jordan', 'Kazakhstan',\n",
        "    'Kenya', 'Kiribati', 'Korea (North)', 'Korea (South)', 'Kuwait', 'Kyrgyzstan', 'Laos', 'Latvia', 'Lebanon', 'Lesotho',\n",
        "    'Liberia', 'Libya', 'Liechtenstein', 'Lithuania', 'Luxembourg', 'Madagascar', 'Malawi', 'Malaysia', 'Maldives', 'Mali',\n",
        "    'Malta', 'Marshall Islands', 'Mauritania', 'Mauritius', 'Mexico', 'Micronesia', 'Moldova', 'Monaco', 'Mongolia',\n",
        "    'Montenegro', 'Morocco', 'Mozambique', 'Myanmar', 'Namibia', 'Nauru', 'Nepal', 'Netherlands', 'New Zealand', 'Nicaragua',\n",
        "    'Niger', 'Nigeria', 'North Macedonia', 'Norway', 'Oman', 'Pakistan', 'Palau', 'Panama', 'Papua New Guinea', 'Paraguay',\n",
        "    'Peru', 'Philippines', 'Poland', 'Portugal', 'Qatar', 'Romania', 'Russia', 'Rwanda', 'Saint Kitts and Nevis', 'Saint Lucia',\n",
        "    'Saint Vincent and the Grenadines', 'Samoa', 'San Marino', 'Sao Tome and Principe', 'Saudi Arabia', 'Senegal', 'Serbia',\n",
        "    'Seychelles', 'Sierra Leone', 'Singapore', 'Slovakia', 'Slovenia', 'Solomon Islands', 'Somalia', 'South Africa', 'South Sudan',\n",
        "    'Spain', 'Sri Lanka', 'Sudan', 'Suriname', 'Sweden', 'Switzerland', 'Syria', 'Taiwan', 'Tajikistan', 'Tanzania', 'Thailand',\n",
        "    'Togo', 'Tonga', 'Trinidad and Tobago', 'Tunisia', 'Turkey', 'Turkmenistan', 'Tuvalu', 'Uganda', 'Ukraine', 'United Arab Emirates',\n",
        "    'United Kingdom', 'United States', 'Uruguay', 'Uzbekistan', 'Vanuatu', 'Vatican City', 'Venezuela', 'Vietnam', 'Yemen',\n",
        "    'Zambia', 'Zimbabwe'\n",
        "]\n",
        "\n",
        "client_schema = DataFrameSchema({\n",
        "    \"DNI\": Column(int, checks=Check.gt(0), nullable=False),\n",
        "    \"nationality\": Column(str, checks=Check.isin(VALID_NATIONALITIES), nullable=False),\n",
        "    \"registration_date\": Column(pa.DateTime, checks=Check(lambda d: d <= pd.Timestamp.today(), error=\"Date cannot be in the future\"), nullable=False)\n",
        "})\n",
        "\n",
        "data = {\n",
        "    \"DNI\": [12345678, 87654321],\n",
        "    \"nationality\": ['Argentina', 'Narnia'],\n",
        "    \"registration_date\": [pd.Timestamp(\"2023-09-01\"), pd.Timestamp(\"2025-01-01\")]\n",
        "}\n",
        "\n",
        "df = pd.DataFrame(data)\n",
        "\n"
      ],
      "metadata": {
        "id": "z3DJDdci8-BP"
      },
      "execution_count": null,
      "outputs": []
    },
    {
      "cell_type": "code",
      "source": [
        "client_confechaquenoexiste = Client(DNI=12345678, nationality='Argentina', registration_date=date(-2025, 1, 1))\n",
        "\n"
      ],
      "metadata": {
        "id": "Y5WmEhgxjxYm",
        "outputId": "b6c29e29-9519-4fc0-ee2a-2a4575f75703",
        "colab": {
          "base_uri": "https://localhost:8080/",
          "height": 166
        }
      },
      "execution_count": null,
      "outputs": [
        {
          "output_type": "error",
          "ename": "ValueError",
          "evalue": "year -2025 is out of range",
          "traceback": [
            "\u001b[0;31m---------------------------------------------------------------------------\u001b[0m",
            "\u001b[0;31mValueError\u001b[0m                                Traceback (most recent call last)",
            "\u001b[0;32m<ipython-input-30-eed511bcb878>\u001b[0m in \u001b[0;36m<cell line: 1>\u001b[0;34m()\u001b[0m\n\u001b[0;32m----> 1\u001b[0;31m \u001b[0mclient_confechaquenoexiste\u001b[0m \u001b[0;34m=\u001b[0m \u001b[0mClient\u001b[0m\u001b[0;34m(\u001b[0m\u001b[0mDNI\u001b[0m\u001b[0;34m=\u001b[0m\u001b[0;36m12345678\u001b[0m\u001b[0;34m,\u001b[0m \u001b[0mnationality\u001b[0m\u001b[0;34m=\u001b[0m\u001b[0;34m'Argentina'\u001b[0m\u001b[0;34m,\u001b[0m \u001b[0mregistration_date\u001b[0m\u001b[0;34m=\u001b[0m\u001b[0mdate\u001b[0m\u001b[0;34m(\u001b[0m\u001b[0;34m-\u001b[0m\u001b[0;36m2025\u001b[0m\u001b[0;34m,\u001b[0m \u001b[0;36m1\u001b[0m\u001b[0;34m,\u001b[0m \u001b[0;36m1\u001b[0m\u001b[0;34m)\u001b[0m\u001b[0;34m)\u001b[0m\u001b[0;34m\u001b[0m\u001b[0;34m\u001b[0m\u001b[0m\n\u001b[0m\u001b[1;32m      2\u001b[0m \u001b[0;34m\u001b[0m\u001b[0m\n",
            "\u001b[0;31mValueError\u001b[0m: year -2025 is out of range"
          ]
        }
      ]
    },
    {
      "cell_type": "code",
      "source": [
        "client = Client(DNI=12345678, nationality='Argentina', registration_date=date(2023, 9, 1))\n",
        "print(client)"
      ],
      "metadata": {
        "id": "hlZh9Pfyj05X",
        "outputId": "117add05-4f3c-4fe5-acc9-e524f0d87950",
        "colab": {
          "base_uri": "https://localhost:8080/"
        }
      },
      "execution_count": null,
      "outputs": [
        {
          "output_type": "stream",
          "name": "stdout",
          "text": [
            "DNI=12345678 nationality='Argentina' registration_date=datetime.date(2023, 9, 1)\n"
          ]
        }
      ]
    }
  ]
}
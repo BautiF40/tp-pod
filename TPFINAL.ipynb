{
  "nbformat": 4,
  "nbformat_minor": 0,
  "metadata": {
    "colab": {
      "provenance": []
    },
    "kernelspec": {
      "name": "python3",
      "display_name": "Python 3"
    },
    "language_info": {
      "name": "python"
    }
  },
  "cells": [
    {
      "cell_type": "code",
      "execution_count": 1,
      "metadata": {
        "id": "KIq1LRGHPRDp"
      },
      "outputs": [],
      "source": [
        "import random\n",
        "from collections import Counter\n",
        "\n",
        "class Carta:\n",
        "    palos = ['Corazones', 'Diamantes', 'Tréboles', 'Picas']\n",
        "    valores = ['2', '3', '4', '5', '6', '7', '8', '9', '10',\n",
        "               'Jota', 'Reina', 'Rey', 'As']\n",
        "\n",
        "    def __init__(self, valor, palo):\n",
        "        if valor not in Carta.valores:\n",
        "            raise ValueError(f\"Valor inválido: {valor}\")\n",
        "        if palo not in Carta.palos:\n",
        "            raise ValueError(f\"Palo inválido: {palo}\")\n",
        "        self.valor = valor\n",
        "        self.palo = palo\n",
        "\n",
        "    def __str__(self):\n",
        "        return f\"{self.valor} de {self.palo}\"\n",
        "\n",
        "    def valor_numérico(self):\n",
        "        \"\"\"Devuelve el valor numérico de la carta para comparación.\"\"\"\n",
        "        if self.valor.isdigit():\n",
        "            return int(self.valor)\n",
        "        elif self.valor == 'As':\n",
        "            return 14\n",
        "        elif self.valor == 'Rey':\n",
        "            return 13\n",
        "        elif self.valor == 'Reina':\n",
        "            return 12\n",
        "        elif self.valor == 'Jota':\n",
        "            return 11\n"
      ]
    },
    {
      "cell_type": "code",
      "source": [
        "class Baraja:\n",
        "    def __init__(self):\n",
        "        self.cartas = [Carta(valor, palo) for palo in Carta.palos for valor in Carta.valores]\n",
        "        self.barajar()\n",
        "\n",
        "    def barajar(self):\n",
        "        random.shuffle(self.cartas)\n",
        "\n",
        "    def repartir(self):\n",
        "        if len(self.cartas) == 0:\n",
        "            raise ValueError(\"Todas las cartas han sido repartidas\")\n",
        "        return self.cartas.pop()\n"
      ],
      "metadata": {
        "id": "FijQicDWQQgR"
      },
      "execution_count": 2,
      "outputs": []
    },
    {
      "cell_type": "code",
      "source": [
        "class Mano:\n",
        "    def __init__(self):\n",
        "        self.cartas = []\n",
        "\n",
        "    def agregar_carta(self, carta):\n",
        "        if len(self.cartas) >= 5:\n",
        "            raise ValueError(\"La mano ya tiene 5 cartas\")\n",
        "        self.cartas.append(carta)\n",
        "\n",
        "    def reemplazar_carta(self, índice, nueva_carta):\n",
        "        if índice < 0 or índice >= len(self.cartas):\n",
        "            raise IndexError(\"Índice de carta inválido\")\n",
        "        self.cartas[índice] = nueva_carta\n",
        "\n",
        "    def evaluar_mano(self):\n",
        "        valores = [carta.valor for carta in self.cartas]\n",
        "        palos = [carta.palo for carta in self.cartas]\n",
        "        conteo_valores = Counter(valores)\n",
        "        conteo_palos = Counter(palos)\n",
        "        valores_numéricos = sorted([carta.valor_numérico() for carta in self.cartas], reverse=True)\n",
        "\n",
        "        es_color = max(conteo_palos.values()) == 5\n",
        "        es_escalera = False\n",
        "        if valores_numéricos == list(range(valores_numéricos[0], valores_numéricos[0]-5, -1)):\n",
        "            es_escalera = True\n",
        "        # Caso especial: Escalera con As como 1 (As,2,3,4,5)\n",
        "        if set(valores_numéricos) == set([14, 2, 3, 4, 5]):\n",
        "            es_escalera = True\n",
        "            valores_numéricos = [5, 4, 3, 2, 1]\n",
        "\n",
        "        if es_escalera and es_color:\n",
        "            return (\"Escalera de Color\", 50)\n",
        "        elif 4 in conteo_valores.values():\n",
        "            return (\"Póker\", 40)\n",
        "        elif sorted(conteo_valores.values()) == [2, 3]:\n",
        "            return (\"Full\", 30)\n",
        "        elif es_color:\n",
        "            return (\"Color\", 25)\n",
        "        elif es_escalera:\n",
        "            return (\"Escalera\", 20)\n",
        "        elif 3 in conteo_valores.values():\n",
        "            return (\"Trío\", 15)\n",
        "        elif list(conteo_valores.values()).count(2) == 2:\n",
        "            return (\"Doble Pareja\", 10)\n",
        "        elif 2 in conteo_valores.values():\n",
        "            return (\"Pareja\", 5)\n",
        "        else:\n",
        "            return (\"Carta Alta\", 1)\n",
        "\n",
        "    def __str__(self):\n",
        "        return ', '.join([f\"{índice+1}: {carta}\" for índice, carta in enumerate(self.cartas)])\n"
      ],
      "metadata": {
        "id": "ThyJHiF0QS4y"
      },
      "execution_count": 3,
      "outputs": []
    },
    {
      "cell_type": "code",
      "source": [
        "class JuegoPoker:\n",
        "    def __init__(self):\n",
        "        self.baraja = Baraja()\n",
        "        self.mano_jugador = Mano()\n",
        "        self.puntos = 0\n",
        "\n",
        "    def iniciar_juego(self):\n",
        "        print(\"¡Bienvenido al Póker de 5 Cartas!\")\n",
        "        self.robar_mano_inicial()\n",
        "        self.turno_jugador()\n",
        "        self.evaluar_puntuación()\n",
        "\n",
        "    def robar_mano_inicial(self):\n",
        "        for _ in range(5):\n",
        "            self.mano_jugador.agregar_carta(self.baraja.repartir())\n",
        "\n",
        "    def turno_jugador(self):\n",
        "        print(\"\\nTu mano actual:\")\n",
        "        print(self.mano_jugador)\n",
        "        elección = input(\"¿Deseas reemplazar alguna carta? (s/n): \").lower()\n",
        "        if elección == 's':\n",
        "            try:\n",
        "                índices = input(\"Ingresa los números de las cartas a reemplazar (separados por espacio): \")\n",
        "                índices = list(map(int, índices.strip().split()))\n",
        "                if len(set(índices)) > 5:\n",
        "                    print(\"Solo puedes reemplazar hasta 5 cartas.\")\n",
        "                    return\n",
        "                for idx in índices:\n",
        "                    if idx < 1 or idx > 5:\n",
        "                        print(f\"Número de carta inválido: {idx}\")\n",
        "                        continue\n",
        "                    nueva_carta = self.baraja.repartir()\n",
        "                    self.mano_jugador.reemplazar_carta(idx-1, nueva_carta)\n",
        "                    print(f\"Reemplazada carta {idx} por {nueva_carta}\")\n",
        "                print(\"\\nTu nueva mano:\")\n",
        "                print(self.mano_jugador)\n",
        "            except Exception as e:\n",
        "                print(f\"Error: {e}\")\n",
        "        else:\n",
        "            print(\"No se reemplazaron cartas.\")\n",
        "\n",
        "    def evaluar_puntuación(self):\n",
        "        evaluación, puntos_mano = self.mano_jugador.evaluar_mano()\n",
        "        self.puntos += puntos_mano\n",
        "        print(\"\\n--- Resultados ---\")\n",
        "        print(f\"Tu mano: {self.mano_jugador} -> {evaluación} ({puntos_mano} puntos)\")\n",
        "        print(f\"Puntuación total: {self.puntos} puntos\")\n"
      ],
      "metadata": {
        "id": "kajmG0e1QUwh"
      },
      "execution_count": 4,
      "outputs": []
    },
    {
      "cell_type": "code",
      "source": [
        "def main():\n",
        "    juego = JuegoPoker()\n",
        "    juego.iniciar_juego()\n",
        "\n",
        "if __name__ == \"__main__\":\n",
        "    main()\n"
      ],
      "metadata": {
        "colab": {
          "base_uri": "https://localhost:8080/"
        },
        "id": "6su8G2_PQWU9",
        "outputId": "6af17950-b73e-4d33-d621-0f8b97c05c90"
      },
      "execution_count": 5,
      "outputs": [
        {
          "output_type": "stream",
          "name": "stdout",
          "text": [
            "¡Bienvenido al Póker de 5 Cartas!\n",
            "\n",
            "Tu mano actual:\n",
            "1: 5 de Picas, 2: 3 de Diamantes, 3: 5 de Diamantes, 4: As de Tréboles, 5: 9 de Picas\n",
            "¿Deseas reemplazar alguna carta? (s/n): s\n",
            "Ingresa los números de las cartas a reemplazar (separados por espacio): 2 4 5\n",
            "Reemplazada carta 2 por Jota de Diamantes\n",
            "Reemplazada carta 4 por 6 de Corazones\n",
            "Reemplazada carta 5 por 8 de Picas\n",
            "\n",
            "Tu nueva mano:\n",
            "1: 5 de Picas, 2: Jota de Diamantes, 3: 5 de Diamantes, 4: 6 de Corazones, 5: 8 de Picas\n",
            "\n",
            "--- Resultados ---\n",
            "Tu mano: 1: 5 de Picas, 2: Jota de Diamantes, 3: 5 de Diamantes, 4: 6 de Corazones, 5: 8 de Picas -> Pareja (5 puntos)\n",
            "Puntuación total: 5 puntos\n"
          ]
        }
      ]
    }
  ]
}
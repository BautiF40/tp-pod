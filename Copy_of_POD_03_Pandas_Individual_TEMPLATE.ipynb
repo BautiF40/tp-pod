{
  "nbformat": 4,
  "nbformat_minor": 0,
  "metadata": {
    "colab": {
      "provenance": [],
      "collapsed_sections": [
        "8ec8DQdbWQfC"
      ]
    },
    "kernelspec": {
      "name": "python3",
      "display_name": "Python 3"
    },
    "language_info": {
      "name": "python"
    }
  },
  "cells": [
    {
      "cell_type": "markdown",
      "source": [
        "*   **Año:** [INSERTAR AÑO]\n",
        "*   **Alumno/a:** [INSERTAR NOMBRE]\n",
        "*   **Legajo:** [LEGAJO]"
      ],
      "metadata": {
        "id": "UwxQU5JCF33j"
      }
    },
    {
      "cell_type": "markdown",
      "source": [
        "# Pandas\n",
        "A continuación, cada celda va a pedir algo distinto. Por favor, realizarlo con la menor cantidad de lineas posibles y con NumPy.\n"
      ],
      "metadata": {
        "id": "8ec8DQdbWQfC"
      }
    },
    {
      "cell_type": "markdown",
      "source": [
        "Importar `pandas` con el alias `pd` e imprimir la versión instalada."
      ],
      "metadata": {
        "id": "uF01w4AQcrtV"
      }
    },
    {
      "cell_type": "code",
      "source": [
        "import pandas as pd\n",
        "print(pd.__version__)\n",
        "\n"
      ],
      "metadata": {
        "id": "4WPUcwU_c5n2",
        "outputId": "b9904f2e-5c65-4431-9ccb-c83369cb604f",
        "colab": {
          "base_uri": "https://localhost:8080/"
        }
      },
      "execution_count": null,
      "outputs": [
        {
          "output_type": "stream",
          "name": "stdout",
          "text": [
            "2.2.2\n"
          ]
        }
      ]
    },
    {
      "cell_type": "markdown",
      "source": [
        "Crear la siguiente tabla como un dataframe de Pandas donde cada linea represente un diccionario.\n",
        "\n",
        "| _Index_ | **nombre**       | **edad** | **dni**  |\n",
        "|---------|------------------|----------|----------|\n",
        "| 9       | Brown, James     | 43       | 30123444 |\n",
        "| 3       | Hamkel, Louis V. | 29       | 44555666 |\n",
        "| 7       | Baptista, Carlos | 28       | 43120111 |"
      ],
      "metadata": {
        "id": "eC8fpbQ04GzX"
      }
    },
    {
      "cell_type": "code",
      "source": [
        "data = [\n",
        "    {'nombre': 'Brown, James', 'edad': 43, 'dni': 30123444},\n",
        "    {'nombre': 'Hamkel, Louis V.', 'edad': 29, 'dni': 44556666},\n",
        "    {'nombre': 'Baptista, Carlos', 'edad': 28, 'dni': 43120111}\n",
        "]\n",
        "\n",
        "df = pd.DataFrame(data, index=[9, 3, 7])\n",
        "print(df)"
      ],
      "metadata": {
        "id": "I4zJ7s_k4GkI",
        "outputId": "e4aab0a4-b26b-41fc-bd4d-44a31bb0fa77",
        "colab": {
          "base_uri": "https://localhost:8080/"
        }
      },
      "execution_count": null,
      "outputs": [
        {
          "output_type": "stream",
          "name": "stdout",
          "text": [
            "             nombre  edad       dni\n",
            "9      Brown, James    43  30123444\n",
            "3  Hamkel, Louis V.    29  44556666\n",
            "7  Baptista, Carlos    28  43120111\n"
          ]
        }
      ]
    },
    {
      "cell_type": "markdown",
      "source": [
        "Crear la siguiente tabla como un dataframe de Pandas donde todas las lineas esten dentro de un solo diccionario.\n",
        "\n",
        "| _Index_ | **nombre**       | **edad** | **dni**  |\n",
        "|---------|------------------|----------|----------|\n",
        "| 9       | Brown, James     | 43       | 30123444 |\n",
        "| 3       | Hamkel, Louis V. | 29       | 44555666 |\n",
        "| 7       | Baptista, Carlos | 28       | 43120111 |"
      ],
      "metadata": {
        "id": "zas-XX4r4SeP"
      }
    },
    {
      "cell_type": "code",
      "source": [
        "data = {\n",
        "    'nombre': ['Brown, James', 'Hamkel, Louis V.', 'Baptista, Carlos'],\n",
        "    'edad': [43, 29, 28],\n",
        "    'dni': [30123444, 44556666, 43120111]\n",
        "}\n",
        "\n",
        "df = pd.DataFrame(data, index=[9, 3, 7])\n",
        "print(df)\n"
      ],
      "metadata": {
        "id": "_DhtCWhr4ST9",
        "outputId": "25ab5422-f3b0-4b7d-905a-d727370b72fd",
        "colab": {
          "base_uri": "https://localhost:8080/"
        }
      },
      "execution_count": null,
      "outputs": [
        {
          "output_type": "stream",
          "name": "stdout",
          "text": [
            "             nombre  edad       dni\n",
            "9      Brown, James    43  30123444\n",
            "3  Hamkel, Louis V.    29  44556666\n",
            "7  Baptista, Carlos    28  43120111\n"
          ]
        }
      ]
    },
    {
      "cell_type": "markdown",
      "source": [
        "Crear la siguiente tabla como un dataframe de Pandas donde se usen unicamente listas.\n",
        "\n",
        "| _Index_ | **nombre**       | **edad** | **dni**  |\n",
        "|---------|------------------|----------|----------|\n",
        "| 9       | Brown, James     | 43       | 30123444 |\n",
        "| 3       | Hamkel, Louis V. | 29       | 44555666 |\n",
        "| 7       | Baptista, Carlos | 28       | 43120111 |"
      ],
      "metadata": {
        "id": "ejbn5RSH4S_W"
      }
    },
    {
      "cell_type": "code",
      "source": [
        "nombres = ['Brown, James', 'Hamkel, Louis V.', 'Baptista, Carlos']\n",
        "edades = [43, 29, 28]\n",
        "dnis = [30123444, 44556666, 43120111]\n",
        "indices = [9, 3, 7]\n",
        "\n",
        "df = pd.DataFrame({\n",
        "    'nombre': nombres,\n",
        "    'edad': edades,\n",
        "    'dni': dnis\n",
        "}, index=indices)\n",
        "\n",
        "print(df)\n"
      ],
      "metadata": {
        "id": "OMPq8C1C4Su3",
        "outputId": "a8a27707-5fa5-4990-d28a-cb0537c6c8cf",
        "colab": {
          "base_uri": "https://localhost:8080/"
        }
      },
      "execution_count": null,
      "outputs": [
        {
          "output_type": "stream",
          "name": "stdout",
          "text": [
            "             nombre  edad       dni\n",
            "9      Brown, James    43  30123444\n",
            "3  Hamkel, Louis V.    29  44556666\n",
            "7  Baptista, Carlos    28  43120111\n"
          ]
        }
      ]
    },
    {
      "cell_type": "markdown",
      "source": [
        "Crear la siguiente tabla como un dataframe de Pandas donde se usen unicamente `Series`.\n",
        "\n",
        "| _Index_ | **nombre**       | **edad** | **dni**  |\n",
        "|---------|------------------|----------|----------|\n",
        "| 9       | Brown, James     | 43       | 30123444 |\n",
        "| 3       | Hamkel, Louis V. | 29       | 44555666 |\n",
        "| 7       | Baptista, Carlos | 28       | 43120111 |"
      ],
      "metadata": {
        "id": "dVCeyowLEnJ1"
      }
    },
    {
      "cell_type": "code",
      "source": [
        "nombres = pd.Series(['Brown, James', 'Hamkel, Louis V.', 'Baptista, Carlos'], index=[9, 3, 7])\n",
        "edades = pd.Series([43, 29, 28], index=[9, 3, 7])\n",
        "dnis = pd.Series([30123444, 44556666, 43120111], index=[9, 3, 7])\n",
        "\n",
        "df = pd.DataFrame({\n",
        "    'nombre': nombres,\n",
        "    'edad': edades,\n",
        "    'dni': dnis\n",
        "})\n",
        "\n",
        "print(df)\n"
      ],
      "metadata": {
        "id": "lj0zQr7qEmzj",
        "outputId": "6eb233fb-6aed-444e-8cf8-0785dd3f0eb5",
        "colab": {
          "base_uri": "https://localhost:8080/"
        }
      },
      "execution_count": null,
      "outputs": [
        {
          "output_type": "stream",
          "name": "stdout",
          "text": [
            "             nombre  edad       dni\n",
            "9      Brown, James    43  30123444\n",
            "3  Hamkel, Louis V.    29  44556666\n",
            "7  Baptista, Carlos    28  43120111\n"
          ]
        }
      ]
    },
    {
      "cell_type": "markdown",
      "source": [
        "Reutilice cualquiera de los dataframe hechos anteriormente pero agregue la columna `fecha` con el tipo de dato relacionado a fechas.\n",
        "\n",
        "| _Index_ | **nombre**       | **edad** | **dni**  | **fecha**  |\n",
        "|---------|------------------|----------|----------|------------|\n",
        "| 9       | Brown, James     | 43       | 30123444 | 12/08/1981 |\n",
        "| 3       | Hamkel, Louis V. | 29       | 44555666 | 10/04/1995 |\n",
        "| 7       | Baptista, Carlos | 28       | 43120111 | 28/05/1996 |"
      ],
      "metadata": {
        "id": "oP9dwhSLEnix"
      }
    },
    {
      "cell_type": "code",
      "source": [
        "import pandas as pd\n",
        "\n",
        "data = {\n",
        "    'nombre': ['Brown, James', 'Hamkel, Louis V.', 'Baptista, Carlos'],\n",
        "    'edad': [43, 29, 28],\n",
        "    'dni': [30123444, 44556666, 43120111]\n",
        "}\n",
        "df = pd.DataFrame(data, index=[9, 3, 7])\n",
        "\n",
        "fechas = ['12/08/1981', '10/04/1995', '28/05/1996']\n",
        "df['fecha'] = pd.to_datetime(fechas, dayfirst=True)\n",
        "\n",
        "print(df)\n"
      ],
      "metadata": {
        "id": "lt6ZjIgAFEpT",
        "outputId": "9ba87da9-06a8-4b62-e901-21242c9ad163",
        "colab": {
          "base_uri": "https://localhost:8080/"
        }
      },
      "execution_count": null,
      "outputs": [
        {
          "output_type": "stream",
          "name": "stdout",
          "text": [
            "             nombre  edad       dni      fecha\n",
            "9      Brown, James    43  30123444 1981-08-12\n",
            "3  Hamkel, Louis V.    29  44556666 1995-04-10\n",
            "7  Baptista, Carlos    28  43120111 1996-05-28\n"
          ]
        }
      ]
    },
    {
      "cell_type": "markdown",
      "source": [
        "Ejecute la siguiente celda. Se va a descargar un archivo llamado `u.user`."
      ],
      "metadata": {
        "id": "X6Y5smKMEn6w"
      }
    },
    {
      "cell_type": "code",
      "source": [
        "!wget https://raw.githubusercontent.com/justmarkham/DAT8/master/data/u.user"
      ],
      "metadata": {
        "id": "3v7G1jWs7rDg",
        "outputId": "eb7a9ca7-3046-4d0a-c1b2-49bd648c2934",
        "colab": {
          "base_uri": "https://localhost:8080/"
        }
      },
      "execution_count": null,
      "outputs": [
        {
          "output_type": "stream",
          "name": "stdout",
          "text": [
            "--2024-10-15 23:28:42--  https://raw.githubusercontent.com/justmarkham/DAT8/master/data/u.user\n",
            "Resolving raw.githubusercontent.com (raw.githubusercontent.com)... 185.199.108.133, 185.199.109.133, 185.199.110.133, ...\n",
            "Connecting to raw.githubusercontent.com (raw.githubusercontent.com)|185.199.108.133|:443... connected.\n",
            "HTTP request sent, awaiting response... 200 OK\n",
            "Length: 22667 (22K) [text/plain]\n",
            "Saving to: ‘u.user’\n",
            "\n",
            "u.user              100%[===================>]  22.14K  --.-KB/s    in 0.001s  \n",
            "\n",
            "2024-10-15 23:28:42 (15.3 MB/s) - ‘u.user’ saved [22667/22667]\n",
            "\n"
          ]
        }
      ]
    },
    {
      "cell_type": "markdown",
      "source": [
        "Lea el archivo con pandas y muestre las primeras 5 filas."
      ],
      "metadata": {
        "id": "-qRRF8T_72wD"
      }
    },
    {
      "cell_type": "code",
      "source": [
        "df = pd.read_csv('u.user', sep='|')\n",
        "print(df.head())\n"
      ],
      "metadata": {
        "id": "HlPu1a1sEohQ",
        "outputId": "82a4722f-66da-493d-92fa-24210e794d9b",
        "colab": {
          "base_uri": "https://localhost:8080/"
        }
      },
      "execution_count": null,
      "outputs": [
        {
          "output_type": "stream",
          "name": "stdout",
          "text": [
            "   user_id  age gender  occupation zip_code\n",
            "0        1   24      M  technician    85711\n",
            "1        2   53      F       other    94043\n",
            "2        3   23      M      writer    32067\n",
            "3        4   24      M  technician    43537\n",
            "4        5   33      F       other    15213\n"
          ]
        }
      ]
    },
    {
      "cell_type": "markdown",
      "source": [
        "Utilice la columna `user_id` como indice y saque dicha columna del dataframe\n",
        "\n"
      ],
      "metadata": {
        "id": "LsqtwfYc8P6L"
      }
    },
    {
      "cell_type": "code",
      "source": [
        "df.set_index('user_id', inplace=True)\n",
        "\n",
        "print(df.head())"
      ],
      "metadata": {
        "id": "yQs0BtSF8PzU",
        "outputId": "e5fba7e5-ef21-48a5-dc8c-745b33721796",
        "colab": {
          "base_uri": "https://localhost:8080/"
        }
      },
      "execution_count": null,
      "outputs": [
        {
          "output_type": "stream",
          "name": "stdout",
          "text": [
            "         age gender  occupation zip_code\n",
            "user_id                                 \n",
            "1         24      M  technician    85711\n",
            "2         53      F       other    94043\n",
            "3         23      M      writer    32067\n",
            "4         24      M  technician    43537\n",
            "5         33      F       other    15213\n"
          ]
        }
      ]
    },
    {
      "cell_type": "markdown",
      "source": [
        "¿Cuantas categorias de trabajos hay?"
      ],
      "metadata": {
        "id": "_5Cld-VT8PsG"
      }
    },
    {
      "cell_type": "code",
      "source": [
        "num_occupations = df['occupation'].nunique()\n",
        "\n",
        "print(f'Número de categorías de trabajos: {num_occupations}')"
      ],
      "metadata": {
        "id": "TVeQ-jgZ8PlX",
        "outputId": "da38884f-5439-4fd9-b1d2-91edc53bd244",
        "colab": {
          "base_uri": "https://localhost:8080/"
        }
      },
      "execution_count": null,
      "outputs": [
        {
          "output_type": "stream",
          "name": "stdout",
          "text": [
            "Número de categorías de trabajos: 21\n"
          ]
        }
      ]
    },
    {
      "cell_type": "markdown",
      "source": [
        " Reporte el porcentaje de personas que tiene cada ocupación."
      ],
      "metadata": {
        "id": "suETYqm28Pba"
      }
    },
    {
      "cell_type": "code",
      "source": [
        "occupation_percentage = df['occupation'].value_counts(normalize=True) * 100\n",
        "\n",
        "print(occupation_percentage)\n"
      ],
      "metadata": {
        "id": "mJFiaURH8PS4",
        "outputId": "c379f76b-6f40-4d50-d7e7-c49c576f3f74",
        "colab": {
          "base_uri": "https://localhost:8080/"
        }
      },
      "execution_count": null,
      "outputs": [
        {
          "output_type": "stream",
          "name": "stdout",
          "text": [
            "occupation\n",
            "student          20.784730\n",
            "other            11.134677\n",
            "educator         10.074231\n",
            "administrator     8.377519\n",
            "engineer          7.104984\n",
            "programmer        6.998940\n",
            "librarian         5.408271\n",
            "writer            4.772004\n",
            "executive         3.393425\n",
            "scientist         3.287381\n",
            "artist            2.969247\n",
            "technician        2.863203\n",
            "marketing         2.757158\n",
            "entertainment     1.908802\n",
            "healthcare        1.696713\n",
            "retired           1.484624\n",
            "lawyer            1.272534\n",
            "salesman          1.272534\n",
            "none              0.954401\n",
            "homemaker         0.742312\n",
            "doctor            0.742312\n",
            "Name: proportion, dtype: float64\n"
          ]
        }
      ]
    },
    {
      "cell_type": "markdown",
      "source": [
        "Reporte el promedio de edad de los estudiantes usando indexeo booleano."
      ],
      "metadata": {
        "id": "OqJ3ufrnEouE"
      }
    },
    {
      "cell_type": "code",
      "source": [
        "average_age_students = df[df['occupation'] == 'student']['age'].mean()\n",
        "\n",
        "print(f'Promedio de edad de los estudiantes: {average_age_students}')\n"
      ],
      "metadata": {
        "id": "h9LdQIKZF5Y3",
        "outputId": "c95ce772-3a8f-4adc-b127-c6eeea7e1f2f",
        "colab": {
          "base_uri": "https://localhost:8080/"
        }
      },
      "execution_count": null,
      "outputs": [
        {
          "output_type": "stream",
          "name": "stdout",
          "text": [
            "Promedio de edad de los estudiantes: 22.081632653061224\n"
          ]
        }
      ]
    },
    {
      "cell_type": "markdown",
      "source": [
        "Mostrar, con una sola linea y sin importar `matplotlib`, un histograma de las edades de las personas que son administradores."
      ],
      "metadata": {
        "id": "ECU9-LayF53z"
      }
    },
    {
      "cell_type": "code",
      "source": [
        "df[df['occupation'] == 'administrator']['age'].plot.hist()\n"
      ],
      "metadata": {
        "id": "qOimVpu0F4el",
        "outputId": "a5cb8e6a-3f8f-494c-c526-be8c2ced15d5",
        "colab": {
          "base_uri": "https://localhost:8080/",
          "height": 447
        }
      },
      "execution_count": null,
      "outputs": [
        {
          "output_type": "execute_result",
          "data": {
            "text/plain": [
              "<Axes: ylabel='Frequency'>"
            ]
          },
          "metadata": {},
          "execution_count": 17
        },
        {
          "output_type": "display_data",
          "data": {
            "text/plain": [
              "<Figure size 640x480 with 1 Axes>"
            ],
            "image/png": "[encoded data removed]"
          },
          "metadata": {}
        }
      ]
    },
    {
      "cell_type": "markdown",
      "source": [
        "Reemplace, sin usar `for`, en la columna `gender` `F` por `female` y `M` por `male`."
      ],
      "metadata": {
        "id": "mFzSH9D1QHM4"
      }
    },
    {
      "cell_type": "code",
      "source": [
        "df['gender'] = df['gender'].replace({'F': 'female', 'M': 'male'})\n",
        "\n",
        "print(df['gender'])"
      ],
      "metadata": {
        "id": "SZg2_4AJQHhr",
        "outputId": "e1ef1a70-03b7-42af-ada1-bd2297f7d2b8",
        "colab": {
          "base_uri": "https://localhost:8080/"
        }
      },
      "execution_count": null,
      "outputs": [
        {
          "output_type": "stream",
          "name": "stdout",
          "text": [
            "user_id\n",
            "1        male\n",
            "2      female\n",
            "3        male\n",
            "4        male\n",
            "5      female\n",
            "        ...  \n",
            "939    female\n",
            "940      male\n",
            "941      male\n",
            "942    female\n",
            "943      male\n",
            "Name: gender, Length: 943, dtype: object\n"
          ]
        }
      ]
    },
    {
      "cell_type": "markdown",
      "source": [
        "# Yahoo! Finance"
      ],
      "metadata": {
        "id": "x6s9aanXAp4G"
      }
    },
    {
      "cell_type": "markdown",
      "source": [
        "Vamos a analizar acciones. La siguiente linea accede a Yahoo Finance y devuelve un DataFrame con los valores de la acción cada dia desde el 1980."
      ],
      "metadata": {
        "id": "qqBxTaafArYH"
      }
    },
    {
      "cell_type": "code",
      "source": [
        "import yfinance as yf\n",
        "dataframe = yf.download('AAPL', start=\"1980-01-01\", end=\"2030-01-01\")\n",
        "print(dataframe)"
      ],
      "metadata": {
        "id": "HWJ0fZbfApy6",
        "colab": {
          "base_uri": "https://localhost:8080/"
        },
        "outputId": "01e950e0-f156-4637-c016-937cbbc17f9d"
      },
      "execution_count": null,
      "outputs": [
        {
          "output_type": "stream",
          "name": "stderr",
          "text": [
            "\r[*********************100%***********************]  1 of 1 completed"
          ]
        },
        {
          "output_type": "stream",
          "name": "stdout",
          "text": [
            "                  Open        High         Low       Close   Adj Close  \\\n",
            "Date                                                                     \n",
            "1980-12-12    0.128348    0.128906    0.128348    0.128348    0.098943   \n",
            "1980-12-15    0.122210    0.122210    0.121652    0.121652    0.093781   \n",
            "1980-12-16    0.113281    0.113281    0.112723    0.112723    0.086898   \n",
            "1980-12-17    0.115513    0.116071    0.115513    0.115513    0.089049   \n",
            "1980-12-18    0.118862    0.119420    0.118862    0.118862    0.091630   \n",
            "...                ...         ...         ...         ...         ...   \n",
            "2024-10-09  225.229996  229.750000  224.830002  229.539993  229.539993   \n",
            "2024-10-10  227.779999  229.500000  227.169998  229.039993  229.039993   \n",
            "2024-10-11  229.300003  229.410004  227.339996  227.550003  227.550003   \n",
            "2024-10-14  228.699997  231.729996  228.600006  231.300003  231.300003   \n",
            "2024-10-15  233.589996  237.490005  232.369995  233.850006  233.850006   \n",
            "\n",
            "               Volume  \n",
            "Date                   \n",
            "1980-12-12  469033600  \n",
            "1980-12-15  175884800  \n",
            "1980-12-16  105728000  \n",
            "1980-12-17   86441600  \n",
            "1980-12-18   73449600  \n",
            "...               ...  \n",
            "2024-10-09   33591100  \n",
            "2024-10-10   28183500  \n",
            "2024-10-11   31759200  \n",
            "2024-10-14   39882100  \n",
            "2024-10-15   61901688  \n",
            "\n",
            "[11052 rows x 6 columns]\n"
          ]
        },
        {
          "output_type": "stream",
          "name": "stderr",
          "text": [
            "\n"
          ]
        }
      ]
    },
    {
      "cell_type": "markdown",
      "source": [
        "¿Cual es el registro mas viejo? Imprimirlo."
      ],
      "metadata": {
        "id": "ikpnKqnPApuG"
      }
    },
    {
      "cell_type": "code",
      "source": [
        "oldest_record = dataframe.iloc[0]\n",
        "\n",
        "print(\"El registro más viejo:\")\n",
        "print(oldest_record[3:4])"
      ],
      "metadata": {
        "id": "e56tZ607Appx",
        "outputId": "856515b3-34b2-4a0a-c178-dfb9969467de",
        "colab": {
          "base_uri": "https://localhost:8080/"
        }
      },
      "execution_count": null,
      "outputs": [
        {
          "output_type": "stream",
          "name": "stdout",
          "text": [
            "El registro más viejo:\n",
            "Close    0.128348\n",
            "Name: 1980-12-12 00:00:00, dtype: float64\n"
          ]
        }
      ]
    },
    {
      "cell_type": "markdown",
      "source": [
        "Cree la columna `Average` tal que\n",
        "\n",
        "$$Average =  \\frac{High-Low}{2}$$\n",
        "\n",
        "y muestre con un histograma dicha columna."
      ],
      "metadata": {
        "id": "EHHhUvUtApk0"
      }
    },
    {
      "cell_type": "code",
      "source": [
        "dataframe['Average'] = (dataframe['High'] + dataframe['Low']) / 2\n",
        "\n",
        "dataframe['Average'].plot.hist(title='Histograma de Average', bins=50)"
      ],
      "metadata": {
        "id": "-b9g66axApgL",
        "outputId": "3fc95d10-ec6a-4cf1-8c6f-4903ff9380df",
        "colab": {
          "base_uri": "https://localhost:8080/",
          "height": 469
        }
      },
      "execution_count": null,
      "outputs": [
        {
          "output_type": "execute_result",
          "data": {
            "text/plain": [
              "<Axes: title={'center': 'Histograma de Average'}, ylabel='Frequency'>"
            ]
          },
          "metadata": {},
          "execution_count": 33
        },
        {
          "output_type": "display_data",
          "data": {
            "text/plain": [
              "<Figure size 640x480 with 1 Axes>"
            ],
            "image/png": "[encoded data removed]"
          },
          "metadata": {}
        }
      ]
    },
    {
      "cell_type": "markdown",
      "source": [
        "Con `matplotlib`, muestre como `Average` fue evolucionando *al final de cada año*."
      ],
      "metadata": {
        "id": "yeZWGXexApbb"
      }
    },
    {
      "cell_type": "code",
      "source": [
        "import matplotlib.pyplot as plt\n",
        "\n",
        "average_yearly = dataframe['Average'].resample('A').last()\n",
        "\n",
        "average_yearly.plot(title='Evolución de Average al final de cada año', xlabel='Año', ylabel='Average')\n",
        "plt.show()\n"
      ],
      "metadata": {
        "id": "oeSb_UegApVZ",
        "outputId": "35f1ebd0-e26f-477b-dd27-ac413fb7de4f",
        "colab": {
          "base_uri": "https://localhost:8080/",
          "height": 527
        }
      },
      "execution_count": null,
      "outputs": [
        {
          "output_type": "stream",
          "name": "stderr",
          "text": [
            "<ipython-input-34-93382ed4a3b5>:3: FutureWarning: 'A' is deprecated and will be removed in a future version, please use 'YE' instead.\n",
            "  average_yearly = dataframe['Average'].resample('A').last()\n"
          ]
        },
        {
          "output_type": "display_data",
          "data": {
            "text/plain": [
              "<Figure size 640x480 with 1 Axes>"
            ],
            "image/png": "[encoded data removed]"
          },
          "metadata": {}
        }
      ]
    },
    {
      "cell_type": "markdown",
      "source": [
        "Muestre con un gráfico de barras, como el volumen fue cambiando *año a año*."
      ],
      "metadata": {
        "id": "K1UXxoawApPD"
      }
    },
    {
      "cell_type": "code",
      "source": [
        "volume_yearly = dataframe['Volume'].resample('A').sum()\n",
        "\n",
        "volume_yearly.plot(kind='bar', title='Volumen anual de AAPL', xlabel='Año', ylabel='Volumen', figsize=(10, 6))\n",
        "plt.tight_layout()\n",
        "plt.show()\n"
      ],
      "metadata": {
        "id": "4OyausU5ApGJ",
        "outputId": "efff1307-0ad5-423f-a701-9e7de1ab0f03",
        "colab": {
          "base_uri": "https://localhost:8080/",
          "height": 446
        }
      },
      "execution_count": null,
      "outputs": [
        {
          "output_type": "stream",
          "name": "stderr",
          "text": [
            "<ipython-input-35-bbf52d82f205>:1: FutureWarning: 'A' is deprecated and will be removed in a future version, please use 'YE' instead.\n",
            "  volume_yearly = dataframe['Volume'].resample('A').sum()\n"
          ]
        },
        {
          "output_type": "display_data",
          "data": {
            "text/plain": [
              "<Figure size 1000x600 with 1 Axes>"
            ],
            "image/png": "[encoded data removed]"
          },
          "metadata": {}
        }
      ]
    },
    {
      "cell_type": "markdown",
      "source": [
        "# Cancelaciones y Delays de vuelos del 2015"
      ],
      "metadata": {
        "id": "uf4NRwyMCKbg"
      }
    },
    {
      "cell_type": "markdown",
      "source": [
        "Creese una cuenta en Kaggle e importe los archivos del dataset del siguiente link: https://www.kaggle.com/datasets/usdot/flight-delays. Cree los dataframes `airlines`, `airports`, y `flights` apartir de esos archivos."
      ],
      "metadata": {
        "id": "RoYldCmDCKWJ"
      }
    },
    {
      "cell_type": "code",
      "source": [
        "import pandas as pd\n",
        "airlines = pd.read_csv('airlines.csv')\n",
        "airports = pd.read_csv('airports.csv')\n",
        "flights = pd.read_csv('flights[1].csv')"
      ],
      "metadata": {
        "id": "pRwfZBNKEFwo"
      },
      "execution_count": null,
      "outputs": []
    },
    {
      "cell_type": "markdown",
      "source": [
        "Combine (*join*) las tablas `airlines`, `airports`, y `flights` en una sola tabla."
      ],
      "metadata": {
        "id": "PjDZHuvKCKNp"
      }
    },
    {
      "cell_type": "code",
      "source": [
        "airlines = pd.read_csv('airlines.csv')\n",
        "airports = pd.read_csv('airports.csv')\n",
        "\n",
        "\n",
        "merged_df = pd.merge(flights, airlines, left_on='AIRLINE', right_on='IATA_CODE', how='left')\n",
        "\n",
        "merged_df = pd.merge(merged_df, airports, left_on='ORIGIN_AIRPORT', right_on='IATA_CODE', how='left', suffixes=('', '_origin'))\n",
        "\n",
        "merged_df = pd.merge(merged_df, airports, left_on='DESTINATION_AIRPORT', right_on='IATA_CODE', how='left', suffixes=('', '_dest'))\n",
        "\n",
        "print(merged_df.head())\n"
      ],
      "metadata": {
        "id": "fSpwaXWzCKJ9",
        "colab": {
          "base_uri": "https://localhost:8080/"
        },
        "outputId": "12a1543e-4653-433b-e6fc-205562f66e7a"
      },
      "execution_count": null,
      "outputs": [
        {
          "output_type": "stream",
          "name": "stdout",
          "text": [
            "   YEAR  MONTH  DAY  DAY_OF_WEEK AIRLINE_x  FLIGHT_NUMBER TAIL_NUMBER  \\\n",
            "0  2015      1  1.0          4.0        AS           98.0      N407AS   \n",
            "1  2015      1  1.0          4.0        AA         2336.0      N3KUAA   \n",
            "2  2015      1  1.0          4.0        US          840.0      N171US   \n",
            "3  2015      1  1.0          4.0        AA          258.0      N3HYAA   \n",
            "4  2015      1  1.0          4.0        AS          135.0      N527AS   \n",
            "\n",
            "  ORIGIN_AIRPORT DESTINATION_AIRPORT  SCHEDULED_DEPARTURE  ...  COUNTRY  \\\n",
            "0            ANC                 SEA                  5.0  ...      USA   \n",
            "1            LAX                 PBI                 10.0  ...      USA   \n",
            "2            SFO                 CLT                 20.0  ...      USA   \n",
            "3            LAX                 MIA                 20.0  ...      USA   \n",
            "4            SEA                 ANC                 25.0  ...      USA   \n",
            "\n",
            "   LATITUDE  LONGITUDE  IATA_CODE_dest  \\\n",
            "0  61.17432 -149.99619             SEA   \n",
            "1  33.94254 -118.40807             PBI   \n",
            "2  37.61900 -122.37484             CLT   \n",
            "3  33.94254 -118.40807             MIA   \n",
            "4  47.44898 -122.30931             ANC   \n",
            "\n",
            "                                  AIRPORT_dest        CITY_dest  STATE_dest  \\\n",
            "0         Seattle-Tacoma International Airport          Seattle          WA   \n",
            "1             Palm Beach International Airport  West Palm Beach          FL   \n",
            "2      Charlotte Douglas International Airport        Charlotte          NC   \n",
            "3                  Miami International Airport            Miami          FL   \n",
            "4  Ted Stevens Anchorage International Airport        Anchorage          AK   \n",
            "\n",
            "   COUNTRY_dest  LATITUDE_dest  LONGITUDE_dest  \n",
            "0           USA       47.44898      -122.30931  \n",
            "1           USA       26.68316       -80.09559  \n",
            "2           USA       35.21401       -80.94313  \n",
            "3           USA       25.79325       -80.29056  \n",
            "4           USA       61.17432      -149.99619  \n",
            "\n",
            "[5 rows x 47 columns]\n"
          ]
        }
      ]
    },
    {
      "cell_type": "markdown",
      "source": [
        "¿Cuantos vuelos fueron al aeropuerto JFK?"
      ],
      "metadata": {
        "id": "qnx03j1hFm54"
      }
    },
    {
      "cell_type": "code",
      "source": [
        "jfk_flights_count = flights[flights['DESTINATION_AIRPORT'] == 'JFK'].shape[0]\n",
        "\n",
        "print(f\"Cantidad de vuelos al aeropuerto JFK: {jfk_flights_count}\")\n"
      ],
      "metadata": {
        "id": "lmluYuizFnKD",
        "colab": {
          "base_uri": "https://localhost:8080/"
        },
        "outputId": "99b39fb2-59e0-4e42-da41-6954d29ace8b"
      },
      "execution_count": null,
      "outputs": [
        {
          "output_type": "stream",
          "name": "stdout",
          "text": [
            "Cantidad de vuelos al aeropuerto JFK: 6736\n"
          ]
        }
      ]
    },
    {
      "cell_type": "markdown",
      "source": [
        "¿Cuantos vuelos hizo la aerolinea AA?"
      ],
      "metadata": {
        "id": "dhyTy9BhFnXx"
      }
    },
    {
      "cell_type": "code",
      "source": [
        "aa_flights_count = flights[flights['AIRLINE'] == 'AA'].shape[0]\n",
        "\n",
        "print(f\"Cantidad de vuelos realizados por la aerolínea AA: {aa_flights_count}\")\n"
      ],
      "metadata": {
        "id": "IupGmRDpFnsu",
        "colab": {
          "base_uri": "https://localhost:8080/"
        },
        "outputId": "00188519-bcd1-401e-8e7d-29ea1418b532"
      },
      "execution_count": null,
      "outputs": [
        {
          "output_type": "stream",
          "name": "stdout",
          "text": [
            "Cantidad de vuelos realizados por la aerolínea AA: 35020\n"
          ]
        }
      ]
    },
    {
      "cell_type": "markdown",
      "source": [
        "¿Que aerolineas (las primeras 5) tuvo la menor cantidad de vuelos con atrasos? Imprimirlas."
      ],
      "metadata": {
        "id": "kMP-JH_VEsMb"
      }
    },
    {
      "cell_type": "code",
      "source": [
        "delayed_flights = flights[flights['DEPARTURE_DELAY'] > 0]\n",
        "\n",
        "delayed_counts = delayed_flights['AIRLINE'].value_counts()\n",
        "\n",
        "least_delayed_airlines = delayed_counts.nsmallest(5)\n",
        "\n",
        "print(\"Aerolíneas con la menor cantidad de vuelos con retrasos (primeras 5):\")\n",
        "print(least_delayed_airlines)\n"
      ],
      "metadata": {
        "id": "4-h0JTPuEsZk",
        "colab": {
          "base_uri": "https://localhost:8080/"
        },
        "outputId": "758e86c2-d197-446d-fd41-fa938d3aa848"
      },
      "execution_count": null,
      "outputs": [
        {
          "output_type": "stream",
          "name": "stdout",
          "text": [
            "Aerolíneas con la menor cantidad de vuelos con retrasos (primeras 5):\n",
            "AIRLINE\n",
            "VX    1310\n",
            "HA    1581\n",
            "F9    2609\n",
            "AS    2869\n",
            "NK    3168\n",
            "Name: count, dtype: int64\n"
          ]
        }
      ]
    },
    {
      "cell_type": "markdown",
      "source": [
        "¿Que aerolineas (las primeras 5) tuvo la mayor cantidad de vuelos con atrasos? Imprimirlas."
      ],
      "metadata": {
        "id": "AD51bj4AEs3L"
      }
    },
    {
      "cell_type": "code",
      "source": [
        "most_delayed_airlines = delayed_counts.nlargest(5)\n",
        "\n",
        "print(\"Aerolíneas con la mayor cantidad de vuelos con retrasos (primeras 5):\")\n",
        "print(most_delayed_airlines)"
      ],
      "metadata": {
        "id": "MiB6jHQ2Erqx",
        "colab": {
          "base_uri": "https://localhost:8080/"
        },
        "outputId": "1d7f05f1-eda8-4c75-9510-a7af415df33c"
      },
      "execution_count": null,
      "outputs": [
        {
          "output_type": "stream",
          "name": "stdout",
          "text": [
            "Aerolíneas con la mayor cantidad de vuelos con retrasos (primeras 5):\n",
            "AIRLINE\n",
            "WN    37044\n",
            "UA    17086\n",
            "DL    16520\n",
            "AA    14265\n",
            "OO    14249\n",
            "Name: count, dtype: int64\n"
          ]
        }
      ]
    },
    {
      "cell_type": "markdown",
      "source": [
        "Haga un resumen de las razones por la cual los vuelos se atrasan."
      ],
      "metadata": {
        "id": "DWQedGQvFYGP"
      }
    },
    {
      "cell_type": "code",
      "source": [
        "#La mayoria de retrasos son por el clima y llegada tardia de los aviones"
      ],
      "metadata": {
        "id": "AtPN0dv5FX3d",
        "colab": {
          "base_uri": "https://localhost:8080/"
        },
        "outputId": "178b3bd1-75c3-4759-a106-b5860c6c3b45"
      },
      "execution_count": null,
      "outputs": [
        {
          "output_type": "stream",
          "name": "stdout",
          "text": [
            "Resumen de las razones por las cuales los vuelos se atrasan:\n",
            "       DEPARTURE_DELAY  WEATHER_DELAY  AIRLINE_DELAY  LATE_AIRCRAFT_DELAY\n",
            "count    366381.000000   83056.000000   83056.000000         83056.000000\n",
            "mean         11.084650       2.828465      17.843383            23.437825\n",
            "std          38.253807      19.034718      45.318753            41.557454\n",
            "min         -47.000000       0.000000       0.000000             0.000000\n",
            "25%          -5.000000       0.000000       0.000000             0.000000\n",
            "50%          -1.000000       0.000000       2.000000             5.000000\n",
            "75%          11.000000       0.000000      19.000000            30.000000\n",
            "max        1988.000000     938.000000    1971.000000           938.000000\n"
          ]
        }
      ]
    },
    {
      "cell_type": "markdown",
      "source": [
        "Compruebe si hay columnas con celdas vacias."
      ],
      "metadata": {
        "id": "rMpR4FWdCKF2"
      }
    },
    {
      "cell_type": "code",
      "source": [
        "missing_data = flights.isnull().sum()\n",
        "\n",
        "print(\"Cantidad de valores nulos por columna:\")\n",
        "print(missing_data)\n"
      ],
      "metadata": {
        "id": "S_SzBL9ZCKCV",
        "colab": {
          "base_uri": "https://localhost:8080/"
        },
        "outputId": "a3fbb45f-68da-45ab-80b0-cec8cf053a1d"
      },
      "execution_count": null,
      "outputs": [
        {
          "output_type": "stream",
          "name": "stdout",
          "text": [
            "Cantidad de valores nulos por columna:\n",
            "YEAR                        0\n",
            "MONTH                       0\n",
            "DAY                         1\n",
            "DAY_OF_WEEK                 1\n",
            "AIRLINE                     1\n",
            "FLIGHT_NUMBER               1\n",
            "TAIL_NUMBER               593\n",
            "ORIGIN_AIRPORT              1\n",
            "DESTINATION_AIRPORT         1\n",
            "SCHEDULED_DEPARTURE         1\n",
            "DEPARTURE_TIME           6087\n",
            "DEPARTURE_DELAY          6087\n",
            "TAXI_OUT                 6272\n",
            "WHEELS_OFF               6272\n",
            "SCHEDULED_TIME              1\n",
            "ELAPSED_TIME             7142\n",
            "AIR_TIME                 7142\n",
            "DISTANCE                    1\n",
            "WHEELS_ON                6575\n",
            "TAXI_IN                  6575\n",
            "SCHEDULED_ARRIVAL           1\n",
            "ARRIVAL_TIME             6575\n",
            "ARRIVAL_DELAY            7142\n",
            "DIVERTED                    1\n",
            "CANCELLED                   1\n",
            "CANCELLATION_REASON    366109\n",
            "AIR_SYSTEM_DELAY       289412\n",
            "SECURITY_DELAY         289412\n",
            "AIRLINE_DELAY          289412\n",
            "LATE_AIRCRAFT_DELAY    289412\n",
            "WEATHER_DELAY          289412\n",
            "dtype: int64\n"
          ]
        }
      ]
    },
    {
      "cell_type": "markdown",
      "source": [
        "Haga una imputación de datos COMPLETA del dataframe. Pueden escojer cualquier estrategia y no necesariamente todas las columnas deben seguir la misma estrategia."
      ],
      "metadata": {
        "id": "1IH7wd3PCJfQ"
      }
    },
    {
      "cell_type": "code",
      "source": [
        "flights['DEPARTURE_DELAY'].fillna(flights['DEPARTURE_DELAY'].mean(), inplace=True)\n",
        "\n",
        "flights['WEATHER_DELAY'].fillna(flights['WEATHER_DELAY'].median(), inplace=True)\n",
        "\n",
        "flights['AIRLINE'].fillna(flights['AIRLINE'].mode()[0], inplace=True)\n",
        "\n",
        "flights.fillna(0, inplace=True)\n",
        "\n",
        "print(\"Imputación de datos completada.\")\n",
        "print(flights.isnull().sum())\n"
      ],
      "metadata": {
        "id": "PHmO-jb8CJaF",
        "colab": {
          "base_uri": "https://localhost:8080/"
        },
        "outputId": "d9d190ae-f6ee-468a-87be-97f3ebba46f7"
      },
      "execution_count": null,
      "outputs": [
        {
          "output_type": "stream",
          "name": "stderr",
          "text": [
            "<ipython-input-16-f2e959ad87b4>:1: FutureWarning: A value is trying to be set on a copy of a DataFrame or Series through chained assignment using an inplace method.\n",
            "The behavior will change in pandas 3.0. This inplace method will never work because the intermediate object on which we are setting values always behaves as a copy.\n",
            "\n",
            "For example, when doing 'df[col].method(value, inplace=True)', try using 'df.method({col: value}, inplace=True)' or df[col] = df[col].method(value) instead, to perform the operation inplace on the original object.\n",
            "\n",
            "\n",
            "  flights['DEPARTURE_DELAY'].fillna(flights['DEPARTURE_DELAY'].mean(), inplace=True)\n",
            "<ipython-input-16-f2e959ad87b4>:3: FutureWarning: A value is trying to be set on a copy of a DataFrame or Series through chained assignment using an inplace method.\n",
            "The behavior will change in pandas 3.0. This inplace method will never work because the intermediate object on which we are setting values always behaves as a copy.\n",
            "\n",
            "For example, when doing 'df[col].method(value, inplace=True)', try using 'df.method({col: value}, inplace=True)' or df[col] = df[col].method(value) instead, to perform the operation inplace on the original object.\n",
            "\n",
            "\n",
            "  flights['WEATHER_DELAY'].fillna(flights['WEATHER_DELAY'].median(), inplace=True)\n",
            "<ipython-input-16-f2e959ad87b4>:5: FutureWarning: A value is trying to be set on a copy of a DataFrame or Series through chained assignment using an inplace method.\n",
            "The behavior will change in pandas 3.0. This inplace method will never work because the intermediate object on which we are setting values always behaves as a copy.\n",
            "\n",
            "For example, when doing 'df[col].method(value, inplace=True)', try using 'df.method({col: value}, inplace=True)' or df[col] = df[col].method(value) instead, to perform the operation inplace on the original object.\n",
            "\n",
            "\n",
            "  flights['AIRLINE'].fillna(flights['AIRLINE'].mode()[0], inplace=True)\n"
          ]
        },
        {
          "output_type": "stream",
          "name": "stdout",
          "text": [
            "Imputación de datos completada.\n",
            "YEAR                   0\n",
            "MONTH                  0\n",
            "DAY                    0\n",
            "DAY_OF_WEEK            0\n",
            "AIRLINE                0\n",
            "FLIGHT_NUMBER          0\n",
            "TAIL_NUMBER            0\n",
            "ORIGIN_AIRPORT         0\n",
            "DESTINATION_AIRPORT    0\n",
            "SCHEDULED_DEPARTURE    0\n",
            "DEPARTURE_TIME         0\n",
            "DEPARTURE_DELAY        0\n",
            "TAXI_OUT               0\n",
            "WHEELS_OFF             0\n",
            "SCHEDULED_TIME         0\n",
            "ELAPSED_TIME           0\n",
            "AIR_TIME               0\n",
            "DISTANCE               0\n",
            "WHEELS_ON              0\n",
            "TAXI_IN                0\n",
            "SCHEDULED_ARRIVAL      0\n",
            "ARRIVAL_TIME           0\n",
            "ARRIVAL_DELAY          0\n",
            "DIVERTED               0\n",
            "CANCELLED              0\n",
            "CANCELLATION_REASON    0\n",
            "AIR_SYSTEM_DELAY       0\n",
            "SECURITY_DELAY         0\n",
            "AIRLINE_DELAY          0\n",
            "LATE_AIRCRAFT_DELAY    0\n",
            "WEATHER_DELAY          0\n",
            "dtype: int64\n"
          ]
        }
      ]
    }
  ]
}